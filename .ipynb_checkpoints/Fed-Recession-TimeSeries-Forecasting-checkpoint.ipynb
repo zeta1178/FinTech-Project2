{
 "cells": [
  {
   "cell_type": "code",
   "execution_count": 10,
   "id": "c1955514-0606-4667-b818-269d3e5172d4",
   "metadata": {},
   "outputs": [
    {
     "name": "stdout",
     "output_type": "stream",
     "text": [
      "Looking in indexes: https://pypi.org/simple, https://pip.repos.neuron.amazonaws.com\n",
      "Requirement already satisfied: prophet in /home/ec2-user/anaconda3/envs/python3/lib/python3.8/site-packages (1.1.1)\n",
      "Requirement already satisfied: awswrangler in /home/ec2-user/anaconda3/envs/python3/lib/python3.8/site-packages (2.17.0)\n",
      "Requirement already satisfied: matplotlib>=2.0.0 in /home/ec2-user/anaconda3/envs/python3/lib/python3.8/site-packages (from prophet) (3.5.0)\n",
      "Requirement already satisfied: numpy>=1.15.4 in /home/ec2-user/anaconda3/envs/python3/lib/python3.8/site-packages (from prophet) (1.23.3)\n",
      "Requirement already satisfied: python-dateutil>=2.8.0 in /home/ec2-user/anaconda3/envs/python3/lib/python3.8/site-packages (from prophet) (2.8.2)\n",
      "Requirement already satisfied: holidays>=0.14.2 in /home/ec2-user/anaconda3/envs/python3/lib/python3.8/site-packages (from prophet) (0.16)\n",
      "Requirement already satisfied: setuptools-git>=1.2 in /home/ec2-user/anaconda3/envs/python3/lib/python3.8/site-packages (from prophet) (1.2)\n",
      "Requirement already satisfied: pandas>=1.0.4 in /home/ec2-user/anaconda3/envs/python3/lib/python3.8/site-packages (from prophet) (1.3.4)\n",
      "Requirement already satisfied: LunarCalendar>=0.0.9 in /home/ec2-user/anaconda3/envs/python3/lib/python3.8/site-packages (from prophet) (0.0.9)\n",
      "Requirement already satisfied: cmdstanpy>=1.0.4 in /home/ec2-user/anaconda3/envs/python3/lib/python3.8/site-packages (from prophet) (1.0.7)\n",
      "Requirement already satisfied: wheel>=0.37.0 in /home/ec2-user/anaconda3/envs/python3/lib/python3.8/site-packages (from prophet) (0.37.0)\n",
      "Requirement already satisfied: convertdate>=2.1.2 in /home/ec2-user/anaconda3/envs/python3/lib/python3.8/site-packages (from prophet) (2.4.0)\n",
      "Requirement already satisfied: setuptools>=42 in /home/ec2-user/anaconda3/envs/python3/lib/python3.8/site-packages (from prophet) (59.4.0)\n",
      "Requirement already satisfied: tqdm>=4.36.1 in /home/ec2-user/anaconda3/envs/python3/lib/python3.8/site-packages (from prophet) (4.62.3)\n",
      "Requirement already satisfied: botocore<2.0.0,>=1.27.11 in /home/ec2-user/anaconda3/envs/python3/lib/python3.8/site-packages (from awswrangler) (1.27.80)\n",
      "Requirement already satisfied: pyarrow<8.1.0,>=2.0.0 in /home/ec2-user/anaconda3/envs/python3/lib/python3.8/site-packages (from awswrangler) (7.0.0)\n",
      "Requirement already satisfied: pg8000<2.0.0,>=1.20.0 in /home/ec2-user/anaconda3/envs/python3/lib/python3.8/site-packages (from awswrangler) (1.29.1)\n",
      "Requirement already satisfied: pymysql<2.0.0,>=1.0.0 in /home/ec2-user/anaconda3/envs/python3/lib/python3.8/site-packages (from awswrangler) (1.0.2)\n",
      "Requirement already satisfied: redshift-connector<2.1.0,>=2.0.889 in /home/ec2-user/anaconda3/envs/python3/lib/python3.8/site-packages (from awswrangler) (2.0.909)\n",
      "Requirement already satisfied: progressbar2<5.0.0,>=4.0.0 in /home/ec2-user/anaconda3/envs/python3/lib/python3.8/site-packages (from awswrangler) (4.0.0)\n",
      "Requirement already satisfied: requests-aws4auth<2.0.0,>=1.1.1 in /home/ec2-user/anaconda3/envs/python3/lib/python3.8/site-packages (from awswrangler) (1.1.2)\n",
      "Requirement already satisfied: backoff<3.0.0,>=1.11.1 in /home/ec2-user/anaconda3/envs/python3/lib/python3.8/site-packages (from awswrangler) (2.1.2)\n",
      "Requirement already satisfied: jsonpath-ng<2.0.0,>=1.5.3 in /home/ec2-user/anaconda3/envs/python3/lib/python3.8/site-packages (from awswrangler) (1.5.3)\n",
      "Requirement already satisfied: gremlinpython<4.0.0,>=3.5.2 in /home/ec2-user/anaconda3/envs/python3/lib/python3.8/site-packages (from awswrangler) (3.6.1)\n",
      "Requirement already satisfied: boto3<2.0.0,>=1.24.11 in /home/ec2-user/anaconda3/envs/python3/lib/python3.8/site-packages (from awswrangler) (1.24.75)\n",
      "Requirement already satisfied: opensearch-py<3,>=1 in /home/ec2-user/anaconda3/envs/python3/lib/python3.8/site-packages (from awswrangler) (2.0.0)\n",
      "Requirement already satisfied: openpyxl<3.1.0,>=3.0.0 in /home/ec2-user/anaconda3/envs/python3/lib/python3.8/site-packages (from awswrangler) (3.0.9)\n",
      "Requirement already satisfied: jmespath<2.0.0,>=0.7.1 in /home/ec2-user/anaconda3/envs/python3/lib/python3.8/site-packages (from boto3<2.0.0,>=1.24.11->awswrangler) (0.10.0)\n",
      "Requirement already satisfied: s3transfer<0.7.0,>=0.6.0 in /home/ec2-user/anaconda3/envs/python3/lib/python3.8/site-packages (from boto3<2.0.0,>=1.24.11->awswrangler) (0.6.0)\n",
      "Requirement already satisfied: urllib3<1.27,>=1.25.4 in /home/ec2-user/anaconda3/envs/python3/lib/python3.8/site-packages (from botocore<2.0.0,>=1.27.11->awswrangler) (1.26.8)\n",
      "Requirement already satisfied: ujson in /home/ec2-user/anaconda3/envs/python3/lib/python3.8/site-packages (from cmdstanpy>=1.0.4->prophet) (4.2.0)\n",
      "Requirement already satisfied: pymeeus<=1,>=0.3.13 in /home/ec2-user/anaconda3/envs/python3/lib/python3.8/site-packages (from convertdate>=2.1.2->prophet) (0.5.11)\n",
      "Requirement already satisfied: aenum<4.0.0,>=1.4.5 in /home/ec2-user/anaconda3/envs/python3/lib/python3.8/site-packages (from gremlinpython<4.0.0,>=3.5.2->awswrangler) (3.1.11)\n",
      "Requirement already satisfied: isodate<1.0.0,>=0.6.0 in /home/ec2-user/anaconda3/envs/python3/lib/python3.8/site-packages (from gremlinpython<4.0.0,>=3.5.2->awswrangler) (0.6.1)\n",
      "Requirement already satisfied: nest-asyncio in /home/ec2-user/anaconda3/envs/python3/lib/python3.8/site-packages (from gremlinpython<4.0.0,>=3.5.2->awswrangler) (1.5.1)\n",
      "Requirement already satisfied: aiohttp<=3.8.1,>=3.8.0 in /home/ec2-user/anaconda3/envs/python3/lib/python3.8/site-packages (from gremlinpython<4.0.0,>=3.5.2->awswrangler) (3.8.1)\n",
      "Requirement already satisfied: korean-lunar-calendar in /home/ec2-user/anaconda3/envs/python3/lib/python3.8/site-packages (from holidays>=0.14.2->prophet) (0.3.1)\n",
      "Requirement already satisfied: hijri-converter in /home/ec2-user/anaconda3/envs/python3/lib/python3.8/site-packages (from holidays>=0.14.2->prophet) (2.2.4)\n",
      "Requirement already satisfied: ply in /home/ec2-user/anaconda3/envs/python3/lib/python3.8/site-packages (from jsonpath-ng<2.0.0,>=1.5.3->awswrangler) (3.11)\n",
      "Requirement already satisfied: six in /home/ec2-user/anaconda3/envs/python3/lib/python3.8/site-packages (from jsonpath-ng<2.0.0,>=1.5.3->awswrangler) (1.16.0)\n",
      "Requirement already satisfied: decorator in /home/ec2-user/anaconda3/envs/python3/lib/python3.8/site-packages (from jsonpath-ng<2.0.0,>=1.5.3->awswrangler) (5.1.0)\n",
      "Requirement already satisfied: pytz in /home/ec2-user/anaconda3/envs/python3/lib/python3.8/site-packages (from LunarCalendar>=0.0.9->prophet) (2021.3)\n",
      "Requirement already satisfied: ephem>=3.7.5.3 in /home/ec2-user/anaconda3/envs/python3/lib/python3.8/site-packages (from LunarCalendar>=0.0.9->prophet) (4.1.3)\n",
      "Requirement already satisfied: kiwisolver>=1.0.1 in /home/ec2-user/anaconda3/envs/python3/lib/python3.8/site-packages (from matplotlib>=2.0.0->prophet) (1.3.2)\n",
      "Requirement already satisfied: fonttools>=4.22.0 in /home/ec2-user/anaconda3/envs/python3/lib/python3.8/site-packages (from matplotlib>=2.0.0->prophet) (4.28.2)\n",
      "Requirement already satisfied: pillow>=6.2.0 in /home/ec2-user/anaconda3/envs/python3/lib/python3.8/site-packages (from matplotlib>=2.0.0->prophet) (9.0.1)\n",
      "Requirement already satisfied: pyparsing>=2.2.1 in /home/ec2-user/anaconda3/envs/python3/lib/python3.8/site-packages (from matplotlib>=2.0.0->prophet) (3.0.6)\n",
      "Requirement already satisfied: packaging>=20.0 in /home/ec2-user/anaconda3/envs/python3/lib/python3.8/site-packages (from matplotlib>=2.0.0->prophet) (21.3)\n",
      "Requirement already satisfied: cycler>=0.10 in /home/ec2-user/anaconda3/envs/python3/lib/python3.8/site-packages (from matplotlib>=2.0.0->prophet) (0.11.0)\n",
      "Requirement already satisfied: et-xmlfile in /home/ec2-user/anaconda3/envs/python3/lib/python3.8/site-packages (from openpyxl<3.1.0,>=3.0.0->awswrangler) (1.0.1)\n",
      "Requirement already satisfied: certifi in /home/ec2-user/anaconda3/envs/python3/lib/python3.8/site-packages (from opensearch-py<3,>=1->awswrangler) (2021.10.8)\n",
      "Requirement already satisfied: requests<3.0.0,>=2.4.0 in /home/ec2-user/anaconda3/envs/python3/lib/python3.8/site-packages (from opensearch-py<3,>=1->awswrangler) (2.26.0)\n",
      "Requirement already satisfied: scramp>=1.4.1 in /home/ec2-user/anaconda3/envs/python3/lib/python3.8/site-packages (from pg8000<2.0.0,>=1.20.0->awswrangler) (1.4.1)\n",
      "Requirement already satisfied: python-utils>=3.0.0 in /home/ec2-user/anaconda3/envs/python3/lib/python3.8/site-packages (from progressbar2<5.0.0,>=4.0.0->awswrangler) (3.3.3)\n",
      "Requirement already satisfied: beautifulsoup4<5.0.0,>=4.7.0 in /home/ec2-user/anaconda3/envs/python3/lib/python3.8/site-packages (from redshift-connector<2.1.0,>=2.0.889->awswrangler) (4.10.0)\n",
      "Requirement already satisfied: lxml>=4.6.5 in /home/ec2-user/anaconda3/envs/python3/lib/python3.8/site-packages (from redshift-connector<2.1.0,>=2.0.889->awswrangler) (4.8.0)\n",
      "Requirement already satisfied: charset-normalizer<3.0,>=2.0 in /home/ec2-user/anaconda3/envs/python3/lib/python3.8/site-packages (from aiohttp<=3.8.1,>=3.8.0->gremlinpython<4.0.0,>=3.5.2->awswrangler) (2.0.8)\n",
      "Requirement already satisfied: aiosignal>=1.1.2 in /home/ec2-user/anaconda3/envs/python3/lib/python3.8/site-packages (from aiohttp<=3.8.1,>=3.8.0->gremlinpython<4.0.0,>=3.5.2->awswrangler) (1.2.0)\n",
      "Requirement already satisfied: frozenlist>=1.1.1 in /home/ec2-user/anaconda3/envs/python3/lib/python3.8/site-packages (from aiohttp<=3.8.1,>=3.8.0->gremlinpython<4.0.0,>=3.5.2->awswrangler) (1.2.0)\n",
      "Requirement already satisfied: multidict<7.0,>=4.5 in /home/ec2-user/anaconda3/envs/python3/lib/python3.8/site-packages (from aiohttp<=3.8.1,>=3.8.0->gremlinpython<4.0.0,>=3.5.2->awswrangler) (5.2.0)\n",
      "Requirement already satisfied: attrs>=17.3.0 in /home/ec2-user/anaconda3/envs/python3/lib/python3.8/site-packages (from aiohttp<=3.8.1,>=3.8.0->gremlinpython<4.0.0,>=3.5.2->awswrangler) (21.2.0)\n",
      "Requirement already satisfied: yarl<2.0,>=1.0 in /home/ec2-user/anaconda3/envs/python3/lib/python3.8/site-packages (from aiohttp<=3.8.1,>=3.8.0->gremlinpython<4.0.0,>=3.5.2->awswrangler) (1.7.2)\n",
      "Requirement already satisfied: async-timeout<5.0,>=4.0.0a3 in /home/ec2-user/anaconda3/envs/python3/lib/python3.8/site-packages (from aiohttp<=3.8.1,>=3.8.0->gremlinpython<4.0.0,>=3.5.2->awswrangler) (4.0.1)\n",
      "Requirement already satisfied: soupsieve>1.2 in /home/ec2-user/anaconda3/envs/python3/lib/python3.8/site-packages (from beautifulsoup4<5.0.0,>=4.7.0->redshift-connector<2.1.0,>=2.0.889->awswrangler) (2.3)\n",
      "Requirement already satisfied: idna<4,>=2.5 in /home/ec2-user/anaconda3/envs/python3/lib/python3.8/site-packages (from requests<3.0.0,>=2.4.0->opensearch-py<3,>=1->awswrangler) (3.1)\n",
      "Requirement already satisfied: asn1crypto>=1.4.0 in /home/ec2-user/anaconda3/envs/python3/lib/python3.8/site-packages (from scramp>=1.4.1->pg8000<2.0.0,>=1.20.0->awswrangler) (1.4.0)\n",
      "Requirement already satisfied: typing-extensions>=3.6.5 in /home/ec2-user/anaconda3/envs/python3/lib/python3.8/site-packages (from async-timeout<5.0,>=4.0.0a3->aiohttp<=3.8.1,>=3.8.0->gremlinpython<4.0.0,>=3.5.2->awswrangler) (4.0.0)\n",
      "\u001b[33mWARNING: You are using pip version 22.0.4; however, version 22.2.2 is available.\n",
      "You should consider upgrading via the '/home/ec2-user/anaconda3/envs/python3/bin/python -m pip install --upgrade pip' command.\u001b[0m\u001b[33m\n",
      "\u001b[0m"
     ]
    }
   ],
   "source": [
    "!pip install prophet awswrangler"
   ]
  },
  {
   "cell_type": "code",
   "execution_count": 11,
   "id": "be1e5331-ed3a-4e17-bb9e-721e5e43fd99",
   "metadata": {},
   "outputs": [],
   "source": [
    "import numpy as np\n",
    "import pandas as pd\n",
    "import matplotlib.pyplot as plt"
   ]
  },
  {
   "cell_type": "code",
   "execution_count": 12,
   "id": "12259ada-b5d9-44d4-80f8-31a3a7435a6a",
   "metadata": {},
   "outputs": [
    {
     "data": {
      "text/html": [
       "<div>\n",
       "<style scoped>\n",
       "    .dataframe tbody tr th:only-of-type {\n",
       "        vertical-align: middle;\n",
       "    }\n",
       "\n",
       "    .dataframe tbody tr th {\n",
       "        vertical-align: top;\n",
       "    }\n",
       "\n",
       "    .dataframe thead th {\n",
       "        text-align: right;\n",
       "    }\n",
       "</style>\n",
       "<table border=\"1\" class=\"dataframe\">\n",
       "  <thead>\n",
       "    <tr style=\"text-align: right;\">\n",
       "      <th></th>\n",
       "      <th>date</th>\n",
       "      <th>value</th>\n",
       "    </tr>\n",
       "  </thead>\n",
       "  <tbody>\n",
       "    <tr>\n",
       "      <th>0</th>\n",
       "      <td>2022-07-01</td>\n",
       "      <td>0.20</td>\n",
       "    </tr>\n",
       "    <tr>\n",
       "      <th>1</th>\n",
       "      <td>2022-06-01</td>\n",
       "      <td>0.24</td>\n",
       "    </tr>\n",
       "    <tr>\n",
       "      <th>2</th>\n",
       "      <td>2022-05-01</td>\n",
       "      <td>0.32</td>\n",
       "    </tr>\n",
       "    <tr>\n",
       "      <th>3</th>\n",
       "      <td>2022-04-01</td>\n",
       "      <td>0.18</td>\n",
       "    </tr>\n",
       "    <tr>\n",
       "      <th>4</th>\n",
       "      <td>2022-03-01</td>\n",
       "      <td>0.20</td>\n",
       "    </tr>\n",
       "  </tbody>\n",
       "</table>\n",
       "</div>"
      ],
      "text/plain": [
       "         date  value\n",
       "0  2022-07-01   0.20\n",
       "1  2022-06-01   0.24\n",
       "2  2022-05-01   0.32\n",
       "3  2022-04-01   0.18\n",
       "4  2022-03-01   0.20"
      ]
     },
     "execution_count": 12,
     "metadata": {},
     "output_type": "execute_result"
    }
   ],
   "source": [
    "import awswrangler as wr\n",
    "path = f\"s3://source-voltar/source/fed.csv\"\n",
    "df=wr.s3.read_csv(path)\n",
    "df.head()"
   ]
  },
  {
   "cell_type": "code",
   "execution_count": 13,
   "id": "82a074da-9a55-42e4-8d5d-b5c4175c44f9",
   "metadata": {},
   "outputs": [
    {
     "data": {
      "text/html": [
       "<div>\n",
       "<style scoped>\n",
       "    .dataframe tbody tr th:only-of-type {\n",
       "        vertical-align: middle;\n",
       "    }\n",
       "\n",
       "    .dataframe tbody tr th {\n",
       "        vertical-align: top;\n",
       "    }\n",
       "\n",
       "    .dataframe thead th {\n",
       "        text-align: right;\n",
       "    }\n",
       "</style>\n",
       "<table border=\"1\" class=\"dataframe\">\n",
       "  <thead>\n",
       "    <tr style=\"text-align: right;\">\n",
       "      <th></th>\n",
       "      <th>value</th>\n",
       "    </tr>\n",
       "  </thead>\n",
       "  <tbody>\n",
       "    <tr>\n",
       "      <th>count</th>\n",
       "      <td>120.000000</td>\n",
       "    </tr>\n",
       "    <tr>\n",
       "      <th>mean</th>\n",
       "      <td>2.140833</td>\n",
       "    </tr>\n",
       "    <tr>\n",
       "      <th>std</th>\n",
       "      <td>12.799137</td>\n",
       "    </tr>\n",
       "    <tr>\n",
       "      <th>min</th>\n",
       "      <td>0.100000</td>\n",
       "    </tr>\n",
       "    <tr>\n",
       "      <th>25%</th>\n",
       "      <td>0.240000</td>\n",
       "    </tr>\n",
       "    <tr>\n",
       "      <th>50%</th>\n",
       "      <td>0.350000</td>\n",
       "    </tr>\n",
       "    <tr>\n",
       "      <th>75%</th>\n",
       "      <td>0.580000</td>\n",
       "    </tr>\n",
       "    <tr>\n",
       "      <th>max</th>\n",
       "      <td>100.000000</td>\n",
       "    </tr>\n",
       "  </tbody>\n",
       "</table>\n",
       "</div>"
      ],
      "text/plain": [
       "            value\n",
       "count  120.000000\n",
       "mean     2.140833\n",
       "std     12.799137\n",
       "min      0.100000\n",
       "25%      0.240000\n",
       "50%      0.350000\n",
       "75%      0.580000\n",
       "max    100.000000"
      ]
     },
     "execution_count": 13,
     "metadata": {},
     "output_type": "execute_result"
    }
   ],
   "source": [
    "df.describe()"
   ]
  },
  {
   "cell_type": "code",
   "execution_count": 14,
   "id": "9bfdc167-006b-4687-8651-21a3e532d47a",
   "metadata": {},
   "outputs": [
    {
     "data": {
      "text/html": [
       "<div>\n",
       "<style scoped>\n",
       "    .dataframe tbody tr th:only-of-type {\n",
       "        vertical-align: middle;\n",
       "    }\n",
       "\n",
       "    .dataframe tbody tr th {\n",
       "        vertical-align: top;\n",
       "    }\n",
       "\n",
       "    .dataframe thead th {\n",
       "        text-align: right;\n",
       "    }\n",
       "</style>\n",
       "<table border=\"1\" class=\"dataframe\">\n",
       "  <thead>\n",
       "    <tr style=\"text-align: right;\">\n",
       "      <th></th>\n",
       "      <th>ds</th>\n",
       "      <th>y</th>\n",
       "    </tr>\n",
       "  </thead>\n",
       "  <tbody>\n",
       "    <tr>\n",
       "      <th>0</th>\n",
       "      <td>2022-07-01</td>\n",
       "      <td>0.20</td>\n",
       "    </tr>\n",
       "    <tr>\n",
       "      <th>1</th>\n",
       "      <td>2022-06-01</td>\n",
       "      <td>0.24</td>\n",
       "    </tr>\n",
       "    <tr>\n",
       "      <th>2</th>\n",
       "      <td>2022-05-01</td>\n",
       "      <td>0.32</td>\n",
       "    </tr>\n",
       "    <tr>\n",
       "      <th>3</th>\n",
       "      <td>2022-04-01</td>\n",
       "      <td>0.18</td>\n",
       "    </tr>\n",
       "    <tr>\n",
       "      <th>4</th>\n",
       "      <td>2022-03-01</td>\n",
       "      <td>0.20</td>\n",
       "    </tr>\n",
       "  </tbody>\n",
       "</table>\n",
       "</div>"
      ],
      "text/plain": [
       "           ds     y\n",
       "0  2022-07-01  0.20\n",
       "1  2022-06-01  0.24\n",
       "2  2022-05-01  0.32\n",
       "3  2022-04-01  0.18\n",
       "4  2022-03-01  0.20"
      ]
     },
     "execution_count": 14,
     "metadata": {},
     "output_type": "execute_result"
    }
   ],
   "source": [
    "# Select only the important features i.e. the date and price\n",
    "data = df[[\"date\",\"value\"]] # select Date and Price\n",
    "# Rename the features: These names are NEEDED for the model fitting\n",
    "data = df.rename(columns = {\"date\":\"ds\",\"value\":\"y\"}) #renaming the columns of the dataset\n",
    "data.head(5)"
   ]
  },
  {
   "cell_type": "code",
   "execution_count": 15,
   "id": "cb70096f-037f-4e4c-8170-02c6184ab35a",
   "metadata": {},
   "outputs": [
    {
     "name": "stderr",
     "output_type": "stream",
     "text": [
      "23:31:34 - cmdstanpy - INFO - Chain [1] start processing\n",
      "23:31:34 - cmdstanpy - INFO - Chain [1] done processing\n"
     ]
    },
    {
     "data": {
      "text/plain": [
       "<prophet.forecaster.Prophet at 0x7f3683f45b80>"
      ]
     },
     "execution_count": 15,
     "metadata": {},
     "output_type": "execute_result"
    }
   ],
   "source": [
    "from prophet import Prophet\n",
    "m = Prophet(daily_seasonality = True) # the Prophet class (model)\n",
    "m.fit(data) # fit the model using all data"
   ]
  },
  {
   "cell_type": "code",
   "execution_count": 16,
   "id": "9929c31f-9f43-4865-8162-904752f19678",
   "metadata": {},
   "outputs": [
    {
     "data": {
      "image/png": "[encoded data removed]",
      "text/plain": [
       "<Figure size 720x432 with 1 Axes>"
      ]
     },
     "metadata": {},
     "output_type": "display_data"
    }
   ],
   "source": [
    "future = m.make_future_dataframe(periods=365) #we need to specify the number of days in future\n",
    "prediction = m.predict(future)\n",
    "m.plot(prediction)\n",
    "plt.title(\"Prediction of the Fed Recession using Prophet\")\n",
    "plt.xlabel(\"Date\")\n",
    "plt.ylabel(\"Monthly Data\")\n",
    "plt.savefig('plots/Prediction-Fed-Recession-Prophet-Plot.jpg',bbox_inches='tight')\n",
    "plt.show()"
   ]
  },
  {
   "cell_type": "code",
   "execution_count": null,
   "id": "20bd6479-551c-41b4-8355-ac756c341e0c",
   "metadata": {},
   "outputs": [],
   "source": [
    "hi my name is cassandra\n"
   ]
  }
 ],
 "metadata": {
  "kernelspec": {
   "display_name": "conda_python3",
   "language": "python",
   "name": "conda_python3"
  },
  "language_info": {
   "codemirror_mode": {
    "name": "ipython",
    "version": 3
   },
   "file_extension": ".py",
   "mimetype": "text/x-python",
   "name": "python",
   "nbconvert_exporter": "python",
   "pygments_lexer": "ipython3",
   "version": "3.8.12"
  }
 },
 "nbformat": 4,
 "nbformat_minor": 5
}
