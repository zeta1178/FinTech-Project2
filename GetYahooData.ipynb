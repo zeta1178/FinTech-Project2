{
 "cells": [
  {
   "cell_type": "code",
   "execution_count": 12,
   "id": "e8bbfdff-b02f-4094-82a0-dc2b208be410",
   "metadata": {},
   "outputs": [
    {
     "name": "stdout",
     "output_type": "stream",
     "text": [
      "Requirement already satisfied: yahoo_fin in /opt/conda/lib/python3.7/site-packages (0.8.9.1)\n",
      "Requirement already satisfied: awswrangler in /opt/conda/lib/python3.7/site-packages (2.17.0)\n",
      "Requirement already satisfied: pandas in /opt/conda/lib/python3.7/site-packages (from yahoo_fin) (1.3.5)\n",
      "Requirement already satisfied: requests-html in /opt/conda/lib/python3.7/site-packages (from yahoo_fin) (0.10.0)\n",
      "Requirement already satisfied: feedparser in /opt/conda/lib/python3.7/site-packages (from yahoo_fin) (6.0.10)\n",
      "Requirement already satisfied: requests in /opt/conda/lib/python3.7/site-packages (from yahoo_fin) (2.28.0)\n",
      "Requirement already satisfied: numpy<2.0.0,>=1.21.0 in /opt/conda/lib/python3.7/site-packages (from awswrangler) (1.21.6)\n",
      "Requirement already satisfied: botocore<2.0.0,>=1.27.11 in /opt/conda/lib/python3.7/site-packages (from awswrangler) (1.27.62)\n",
      "Requirement already satisfied: progressbar2<5.0.0,>=4.0.0 in /opt/conda/lib/python3.7/site-packages (from awswrangler) (4.0.0)\n",
      "Requirement already satisfied: redshift-connector<2.1.0,>=2.0.889 in /opt/conda/lib/python3.7/site-packages (from awswrangler) (2.0.908)\n",
      "Requirement already satisfied: gremlinpython<4.0.0,>=3.5.2 in /opt/conda/lib/python3.7/site-packages (from awswrangler) (3.6.1)\n",
      "Requirement already satisfied: openpyxl<3.1.0,>=3.0.0 in /opt/conda/lib/python3.7/site-packages (from awswrangler) (3.0.3)\n",
      "Requirement already satisfied: requests-aws4auth<2.0.0,>=1.1.1 in /opt/conda/lib/python3.7/site-packages (from awswrangler) (1.1.2)\n",
      "Requirement already satisfied: jsonpath-ng<2.0.0,>=1.5.3 in /opt/conda/lib/python3.7/site-packages (from awswrangler) (1.5.3)\n",
      "Requirement already satisfied: boto3<2.0.0,>=1.24.11 in /opt/conda/lib/python3.7/site-packages (from awswrangler) (1.24.62)\n",
      "Requirement already satisfied: pg8000<2.0.0,>=1.20.0 in /opt/conda/lib/python3.7/site-packages (from awswrangler) (1.29.1)\n",
      "Requirement already satisfied: pyarrow<8.1.0,>=2.0.0 in /opt/conda/lib/python3.7/site-packages (from awswrangler) (8.0.0)\n",
      "Requirement already satisfied: pymysql<2.0.0,>=1.0.0 in /opt/conda/lib/python3.7/site-packages (from awswrangler) (1.0.2)\n",
      "Requirement already satisfied: backoff<3.0.0,>=1.11.1 in /opt/conda/lib/python3.7/site-packages (from awswrangler) (2.1.2)\n",
      "Requirement already satisfied: opensearch-py<3,>=1 in /opt/conda/lib/python3.7/site-packages (from awswrangler) (2.0.0)\n",
      "Requirement already satisfied: jmespath<2.0.0,>=0.7.1 in /opt/conda/lib/python3.7/site-packages (from boto3<2.0.0,>=1.24.11->awswrangler) (1.0.1)\n",
      "Requirement already satisfied: s3transfer<0.7.0,>=0.6.0 in /opt/conda/lib/python3.7/site-packages (from boto3<2.0.0,>=1.24.11->awswrangler) (0.6.0)\n",
      "Requirement already satisfied: python-dateutil<3.0.0,>=2.1 in /opt/conda/lib/python3.7/site-packages (from botocore<2.0.0,>=1.27.11->awswrangler) (2.8.1)\n",
      "Requirement already satisfied: urllib3<1.27,>=1.25.4 in /opt/conda/lib/python3.7/site-packages (from botocore<2.0.0,>=1.27.11->awswrangler) (1.26.12)\n",
      "Requirement already satisfied: isodate<1.0.0,>=0.6.0 in /opt/conda/lib/python3.7/site-packages (from gremlinpython<4.0.0,>=3.5.2->awswrangler) (0.6.1)\n",
      "Requirement already satisfied: aenum<4.0.0,>=1.4.5 in /opt/conda/lib/python3.7/site-packages (from gremlinpython<4.0.0,>=3.5.2->awswrangler) (3.1.11)\n",
      "Requirement already satisfied: aiohttp<=3.8.1,>=3.8.0 in /opt/conda/lib/python3.7/site-packages (from gremlinpython<4.0.0,>=3.5.2->awswrangler) (3.8.1)\n",
      "Requirement already satisfied: nest-asyncio in /opt/conda/lib/python3.7/site-packages (from gremlinpython<4.0.0,>=3.5.2->awswrangler) (1.5.5)\n",
      "Requirement already satisfied: six in /opt/conda/lib/python3.7/site-packages (from jsonpath-ng<2.0.0,>=1.5.3->awswrangler) (1.14.0)\n",
      "Requirement already satisfied: ply in /opt/conda/lib/python3.7/site-packages (from jsonpath-ng<2.0.0,>=1.5.3->awswrangler) (3.11)\n",
      "Requirement already satisfied: decorator in /opt/conda/lib/python3.7/site-packages (from jsonpath-ng<2.0.0,>=1.5.3->awswrangler) (4.4.1)\n",
      "Requirement already satisfied: et-xmlfile in /opt/conda/lib/python3.7/site-packages (from openpyxl<3.1.0,>=3.0.0->awswrangler) (1.0.1)\n",
      "Requirement already satisfied: jdcal in /opt/conda/lib/python3.7/site-packages (from openpyxl<3.1.0,>=3.0.0->awswrangler) (1.4.1)\n",
      "Requirement already satisfied: certifi in /opt/conda/lib/python3.7/site-packages (from opensearch-py<3,>=1->awswrangler) (2022.6.15)\n",
      "Requirement already satisfied: pytz>=2017.3 in /opt/conda/lib/python3.7/site-packages (from pandas->yahoo_fin) (2022.1)\n",
      "Requirement already satisfied: importlib-metadata>=1.0 in /opt/conda/lib/python3.7/site-packages (from pg8000<2.0.0,>=1.20.0->awswrangler) (4.12.0)\n",
      "Requirement already satisfied: scramp>=1.4.1 in /opt/conda/lib/python3.7/site-packages (from pg8000<2.0.0,>=1.20.0->awswrangler) (1.4.1)\n",
      "Requirement already satisfied: python-utils>=3.0.0 in /opt/conda/lib/python3.7/site-packages (from progressbar2<5.0.0,>=4.0.0->awswrangler) (3.3.3)\n",
      "Requirement already satisfied: lxml>=4.6.5 in /opt/conda/lib/python3.7/site-packages (from redshift-connector<2.1.0,>=2.0.889->awswrangler) (4.9.1)\n",
      "Requirement already satisfied: packaging in /opt/conda/lib/python3.7/site-packages (from redshift-connector<2.1.0,>=2.0.889->awswrangler) (20.1)\n",
      "Requirement already satisfied: beautifulsoup4<5.0.0,>=4.7.0 in /opt/conda/lib/python3.7/site-packages (from redshift-connector<2.1.0,>=2.0.889->awswrangler) (4.8.2)\n",
      "Requirement already satisfied: charset-normalizer~=2.0.0 in /opt/conda/lib/python3.7/site-packages (from requests->yahoo_fin) (2.0.4)\n",
      "Requirement already satisfied: idna<4,>=2.5 in /opt/conda/lib/python3.7/site-packages (from requests->yahoo_fin) (2.8)\n",
      "Requirement already satisfied: sgmllib3k in /opt/conda/lib/python3.7/site-packages (from feedparser->yahoo_fin) (1.0.0)\n",
      "Requirement already satisfied: pyppeteer>=0.0.14 in /opt/conda/lib/python3.7/site-packages (from requests-html->yahoo_fin) (1.0.2)\n",
      "Requirement already satisfied: w3lib in /opt/conda/lib/python3.7/site-packages (from requests-html->yahoo_fin) (2.0.1)\n",
      "Requirement already satisfied: parse in /opt/conda/lib/python3.7/site-packages (from requests-html->yahoo_fin) (1.19.0)\n",
      "Requirement already satisfied: fake-useragent in /opt/conda/lib/python3.7/site-packages (from requests-html->yahoo_fin) (0.1.11)\n",
      "Requirement already satisfied: bs4 in /opt/conda/lib/python3.7/site-packages (from requests-html->yahoo_fin) (0.0.1)\n",
      "Requirement already satisfied: pyquery in /opt/conda/lib/python3.7/site-packages (from requests-html->yahoo_fin) (1.4.3)\n",
      "Requirement already satisfied: attrs>=17.3.0 in /opt/conda/lib/python3.7/site-packages (from aiohttp<=3.8.1,>=3.8.0->gremlinpython<4.0.0,>=3.5.2->awswrangler) (21.4.0)\n",
      "Requirement already satisfied: asynctest==0.13.0 in /opt/conda/lib/python3.7/site-packages (from aiohttp<=3.8.1,>=3.8.0->gremlinpython<4.0.0,>=3.5.2->awswrangler) (0.13.0)\n",
      "Requirement already satisfied: multidict<7.0,>=4.5 in /opt/conda/lib/python3.7/site-packages (from aiohttp<=3.8.1,>=3.8.0->gremlinpython<4.0.0,>=3.5.2->awswrangler) (6.0.2)\n",
      "Requirement already satisfied: async-timeout<5.0,>=4.0.0a3 in /opt/conda/lib/python3.7/site-packages (from aiohttp<=3.8.1,>=3.8.0->gremlinpython<4.0.0,>=3.5.2->awswrangler) (4.0.2)\n",
      "Requirement already satisfied: frozenlist>=1.1.1 in /opt/conda/lib/python3.7/site-packages (from aiohttp<=3.8.1,>=3.8.0->gremlinpython<4.0.0,>=3.5.2->awswrangler) (1.3.1)\n",
      "Requirement already satisfied: typing-extensions>=3.7.4 in /opt/conda/lib/python3.7/site-packages (from aiohttp<=3.8.1,>=3.8.0->gremlinpython<4.0.0,>=3.5.2->awswrangler) (4.3.0)\n",
      "Requirement already satisfied: yarl<2.0,>=1.0 in /opt/conda/lib/python3.7/site-packages (from aiohttp<=3.8.1,>=3.8.0->gremlinpython<4.0.0,>=3.5.2->awswrangler) (1.8.1)\n",
      "Requirement already satisfied: aiosignal>=1.1.2 in /opt/conda/lib/python3.7/site-packages (from aiohttp<=3.8.1,>=3.8.0->gremlinpython<4.0.0,>=3.5.2->awswrangler) (1.2.0)\n",
      "Requirement already satisfied: soupsieve>=1.2 in /opt/conda/lib/python3.7/site-packages (from beautifulsoup4<5.0.0,>=4.7.0->redshift-connector<2.1.0,>=2.0.889->awswrangler) (1.9.5)\n",
      "Requirement already satisfied: zipp>=0.5 in /opt/conda/lib/python3.7/site-packages (from importlib-metadata>=1.0->pg8000<2.0.0,>=1.20.0->awswrangler) (3.8.1)\n",
      "Requirement already satisfied: tqdm<5.0.0,>=4.42.1 in /opt/conda/lib/python3.7/site-packages (from pyppeteer>=0.0.14->requests-html->yahoo_fin) (4.42.1)\n",
      "Requirement already satisfied: pyee<9.0.0,>=8.1.0 in /opt/conda/lib/python3.7/site-packages (from pyppeteer>=0.0.14->requests-html->yahoo_fin) (8.2.2)\n",
      "Requirement already satisfied: appdirs<2.0.0,>=1.4.3 in /opt/conda/lib/python3.7/site-packages (from pyppeteer>=0.0.14->requests-html->yahoo_fin) (1.4.4)\n",
      "Requirement already satisfied: websockets<11.0,>=10.0 in /opt/conda/lib/python3.7/site-packages (from pyppeteer>=0.0.14->requests-html->yahoo_fin) (10.3)\n",
      "Requirement already satisfied: asn1crypto>=1.4.0 in /opt/conda/lib/python3.7/site-packages (from scramp>=1.4.1->pg8000<2.0.0,>=1.20.0->awswrangler) (1.5.1)\n",
      "Requirement already satisfied: pyparsing>=2.0.2 in /opt/conda/lib/python3.7/site-packages (from packaging->redshift-connector<2.1.0,>=2.0.889->awswrangler) (2.4.6)\n",
      "Requirement already satisfied: cssselect>0.7.9 in /opt/conda/lib/python3.7/site-packages (from pyquery->requests-html->yahoo_fin) (1.1.0)\n",
      "\u001b[33mWARNING: Running pip as the 'root' user can result in broken permissions and conflicting behaviour with the system package manager. It is recommended to use a virtual environment instead: https://pip.pypa.io/warnings/venv\u001b[0m\u001b[33m\n",
      "\u001b[0m"
     ]
    }
   ],
   "source": [
    "!pip install yahoo_fin awswrangler"
   ]
  },
  {
   "cell_type": "code",
   "execution_count": 21,
   "id": "0c7e3784-31ca-48dd-a176-bc5496608de5",
   "metadata": {},
   "outputs": [
    {
     "name": "stdout",
     "output_type": "stream",
     "text": [
      "           date        open        high         low       close    adjclose  \\\n",
      "0    2015-07-10   17.481333   17.533333   17.188000   17.276667   17.276667   \n",
      "1    2015-07-13   17.483334   17.503332   17.070000   17.477333   17.477333   \n",
      "2    2015-07-14   17.473333   17.732668   17.367332   17.709999   17.709999   \n",
      "3    2015-07-15   17.782667   17.832666   17.472000   17.542667   17.542667   \n",
      "4    2015-07-16   17.614668   17.813334   17.544001   17.778667   17.778667   \n",
      "...         ...         ...         ...         ...         ...         ...   \n",
      "1757 2022-07-01  227.000000  230.229996  222.119995  227.263336  227.263336   \n",
      "1758 2022-07-05  223.000000  233.146667  216.166672  233.066666  233.066666   \n",
      "1759 2022-07-06  230.779999  234.563339  227.186661  231.733337  231.733337   \n",
      "1760 2022-07-07  233.919998  245.363327  232.210007  244.543335  244.543335   \n",
      "1761 2022-07-08  242.333328  254.979996  241.160004  250.763336  250.763336   \n",
      "\n",
      "         volume ticker  \n",
      "0      39163500   TSLA  \n",
      "1      44404500   TSLA  \n",
      "2      28614000   TSLA  \n",
      "3      30324000   TSLA  \n",
      "4      24240000   TSLA  \n",
      "...         ...    ...  \n",
      "1757   74460300   TSLA  \n",
      "1758   84581100   TSLA  \n",
      "1759   71853600   TSLA  \n",
      "1760   81930600   TSLA  \n",
      "1761  101854200   TSLA  \n",
      "\n",
      "[1762 rows x 8 columns]\n"
     ]
    }
   ],
   "source": [
    "from yahoo_fin.stock_info import get_data\n",
    "\n",
    "amazon_weekly= get_data(\"tsla\", start_date=\"07/10/2015\", end_date=\"07/10/2022\", index_as_date = False, interval=\"1d\")\n",
    "print(amazon_weekly)"
   ]
  },
  {
   "cell_type": "code",
   "execution_count": 22,
   "id": "7da9be5a-25cd-4962-9061-0c65a41a23bb",
   "metadata": {},
   "outputs": [
    {
     "data": {
      "text/plain": [
       "{'paths': ['s3://source-voltar/source/file1.csv'], 'partitions_values': {}}"
      ]
     },
     "execution_count": 22,
     "metadata": {},
     "output_type": "execute_result"
    }
   ],
   "source": [
    "import awswrangler as wr\n",
    "\n",
    "path = f\"s3://source-voltar/source/file1.csv\"\n",
    "wr.s3.to_csv(amazon_weekly, path, index=False)"
   ]
  },
  {
   "cell_type": "code",
   "execution_count": null,
   "id": "16ed7f4a-f55a-4080-bc7d-5bbbd9af9d1e",
   "metadata": {},
   "outputs": [],
   "source": []
  }
 ],
 "metadata": {
  "instance_type": "ml.t3.medium",
  "kernelspec": {
   "display_name": "Python 3 (Data Science)",
   "language": "python",
   "name": "python3__SAGEMAKER_INTERNAL__arn:aws:sagemaker:us-east-1:081325390199:image/datascience-1.0"
  },
  "language_info": {
   "codemirror_mode": {
    "name": "ipython",
    "version": 3
   },
   "file_extension": ".py",
   "mimetype": "text/x-python",
   "name": "python",
   "nbconvert_exporter": "python",
   "pygments_lexer": "ipython3",
   "version": "3.7.10"
  }
 },
 "nbformat": 4,
 "nbformat_minor": 5
}
